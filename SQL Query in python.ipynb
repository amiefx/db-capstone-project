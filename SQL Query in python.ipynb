{
 "cells": [
  {
   "cell_type": "markdown",
   "metadata": {},
   "source": [
    "## Task One"
   ]
  },
  {
   "cell_type": "code",
   "execution_count": 10,
   "metadata": {},
   "outputs": [],
   "source": [
    "import mysql.connector as connector\n",
    "from mysql.connector import errorcode\n",
    "\n",
    "# connection = connector.connect(host = \"localhost\", user = \"root\", password = \"LearnSQL@2019\")\n",
    "\n",
    "try:\n",
    "    connection = connector.connect(host = 'localhost', user = 'root', password = 'LearnSQL@2019', database = 'littlelemondb')\n",
    "except connector.Error as err:\n",
    "    if err.errno == errorcode.ER_ACCESS_DENIED_ERROR:\n",
    "        print('connection user or password are incorrect')\n",
    "    elif err.errno == errorcode.ER_BAD_DB_ERROR:\n",
    "        print('database does not exist')\n",
    "    else:\n",
    "        print(err)\n",
    "\n",
    "# create cursor\n",
    "cursor = connection.cursor()\n"
   ]
  },
  {
   "cell_type": "code",
   "execution_count": 13,
   "metadata": {},
   "outputs": [],
   "source": [
    "cursor.execute(\"USE littlelemondb\")"
   ]
  },
  {
   "cell_type": "markdown",
   "metadata": {},
   "source": [
    "## Task Two"
   ]
  },
  {
   "cell_type": "code",
   "execution_count": 14,
   "metadata": {},
   "outputs": [],
   "source": [
    "show_tables_query = \"SHOW tables\" \n",
    "results = cursor.execute(show_tables_query)"
   ]
  },
  {
   "cell_type": "code",
   "execution_count": 15,
   "metadata": {},
   "outputs": [
    {
     "name": "stdout",
     "output_type": "stream",
     "text": [
      "bookings\n",
      "customer\n",
      "deliverystatus\n",
      "employee\n",
      "menu\n",
      "menuitems\n",
      "order\n",
      "ordersview\n",
      "ordersview2\n",
      "ordersview3\n"
     ]
    }
   ],
   "source": [
    "tables = cursor.fetchall()\n",
    "for table in tables:\n",
    "    print(table[0])"
   ]
  },
  {
   "cell_type": "markdown",
   "metadata": {},
   "source": [
    "## Task 3"
   ]
  },
  {
   "cell_type": "markdown",
   "metadata": {},
   "source": [
    "#### For the third and final task, Little Lemon need you to return specific details from your database. They require the full name and contact details for every customer that has placed an order greater than $60 for a promotional campaign. "
   ]
  },
  {
   "cell_type": "code",
   "execution_count": 22,
   "metadata": {},
   "outputs": [],
   "source": [
    "customer_query = cursor.execute(\"\"\"SELECT c.Name, c.Contact\n",
    "FROM Customer c\n",
    "JOIN `Order` o ON c.CustomerID = o.CustomerID\n",
    "WHERE o.BillAmount > 30;\"\"\")\n"
   ]
  },
  {
   "cell_type": "code",
   "execution_count": 23,
   "metadata": {},
   "outputs": [
    {
     "name": "stdout",
     "output_type": "stream",
     "text": [
      "('Alice Johnson', '345-678-9012')\n",
      "('John Doe', '123-456-7890')\n",
      "('Alice Johnson', '345-678-9012')\n",
      "('John Doe', '123-456-7890')\n"
     ]
    }
   ],
   "source": [
    "customers = cursor.fetchall()\n",
    "for customer in customers:\n",
    "    print(customer)"
   ]
  }
 ],
 "metadata": {
  "kernelspec": {
   "display_name": "Python 3",
   "language": "python",
   "name": "python3"
  },
  "language_info": {
   "codemirror_mode": {
    "name": "ipython",
    "version": 3
   },
   "file_extension": ".py",
   "mimetype": "text/x-python",
   "name": "python",
   "nbconvert_exporter": "python",
   "pygments_lexer": "ipython3",
   "version": "3.12.1"
  }
 },
 "nbformat": 4,
 "nbformat_minor": 2
}
